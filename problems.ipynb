{
 "cells": [
  {
   "cell_type": "markdown",
   "id": "038a0f13",
   "metadata": {},
   "source": [
    "# Computational Theory Assessment"
   ]
  },
  {
   "cell_type": "code",
   "execution_count": 12,
   "id": "6a9fafa8",
   "metadata": {},
   "outputs": [],
   "source": [
    "import numpy as np"
   ]
  },
  {
   "cell_type": "markdown",
   "id": "56ebbccd",
   "metadata": {},
   "source": [
    "## <Strong>Problem 1 </strong>: Binary Words and Operations"
   ]
  },
  {
   "cell_type": "markdown",
   "id": "0ac35945",
   "metadata": {},
   "source": [
    "### Parity \n",
    "The **Parity** function is defined in the [Secure Hash Standard (FIPS 180-4, § 4.1.1)](https://nvlpubs.nist.gov/nistpubs/FIPS/NIST.FIPS.180-4.pdf) as  \n",
    "\n",
    "$$\n",
    "\\text{Parity}(x, y, z) = x \\oplus y \\oplus z\n",
    "$$\n",
    "\n",
    "where ⊕ shows the **bitwise XOR** operation.\n",
    "\n",
    "For each bit position, the result is 1 if an **odd number** of x, y and z contain a 1 in that position, otherwise 0.  \n",
    "Parity therefore acts as an **odd-bit detector**, ensuring that even a single bit change in the inputs alters the output.\n",
    "\n",
    "**Why XOR is used**\n",
    "- **XOR** stands for *exclusive OR*. \n",
    "- It's a logical operation that compares two bits and outputs **1 if they are different** and **0 if they are the same**.\n",
    "- XOR is **fast**, **branch-free**, and supported directly by CPUs.  \n",
    "- It implements addition mod 2 at the bit level.  \n",
    "\n",
    "**Alternative forms in research**\n",
    "\n",
    "Some authors and implementations describe *Parity* differently:\n",
    "\n",
    "| Formulation | Description |\n",
    "| :-- | :-- |\n",
    "| `(x + y + z) % 2` | Simplistic show of odd/even nature by summing bits and taking the remainder mod 2. |\n",
    "\n",
    "\n",
    "**Truth Table (for 1-bit inputs)**\n",
    "\n",
    "| x | y | z | Parity |\n",
    "|:--:|:--:|:--:|:--:|\n",
    "| 0 | 0 | 0 | 0 |\n",
    "| 0 | 0 | 1 | 1 |\n",
    "| 0 | 1 | 0 | 1 |\n",
    "| 0 | 1 | 1 | 0 |\n",
    "| 1 | 0 | 0 | 1 |\n",
    "| 1 | 0 | 1 | 0 |\n",
    "| 1 | 1 | 0 | 0 |\n",
    "| 1 | 1 | 1 | 1 |"
   ]
  },
  {
   "cell_type": "code",
   "execution_count": 13,
   "id": "9d98518d",
   "metadata": {},
   "outputs": [],
   "source": [
    "# Platform-defined integer type with 32 bits without sign\n",
    "    # Uses np.uint32() : https://numpy.org/devdocs/user/basics.types.html\n",
    "def parity(x: np.uint32, y: np.uint32, z: np.uint32):\n",
    "    \"\"\"\n",
    "    Return the parity (XOR) of three 32-bit numbers.\n",
    "\n",
    "    Each bit of the result is 1 if an odd number of the inputs\n",
    "    have a 1 in that position, otherwise 0.\n",
    "\n",
    "    Parameters:\n",
    "        x (uint32): First 32-bit integer.\n",
    "        y (uint32): Second 32-bit integer.\n",
    "        z (uint32): Third 32-bit integer.\n",
    "\n",
    "    Returns:\n",
    "        np.uint32: The XOR (parity) of the three input values.\n",
    "    \"\"\"\n",
    "    return np.uint32(x ^ y ^ z)\n"
   ]
  },
  {
   "cell_type": "code",
   "execution_count": 14,
   "id": "4a2d29f0",
   "metadata": {},
   "outputs": [
    {
     "name": "stdout",
     "output_type": "stream",
     "text": [
      "0000\n"
     ]
    }
   ],
   "source": [
    "x = np.uint32(0b1010)\n",
    "y = np.uint32(0b1100)\n",
    "z = np.uint32(0b0110)\n",
    "# Display the result in binary form for readability.\n",
    "# Uses np.binary_repr(): https://numpy.org/doc/2.1/reference/generated/numpy.binary_repr.html\n",
    "print(np.binary_repr(parity(x, y, z), 4))\n",
    "\n"
   ]
  },
  {
   "cell_type": "markdown",
   "id": "3aab418e",
   "metadata": {},
   "source": [
    "### Choose\n",
    "The **Choose** function is defined in the [Secure Hash Standard (FIPS 180-4, § 4.1.1)](https://nvlpubs.nist.gov/nistpubs/FIPS/NIST.FIPS.180-4.pdf) as  \n",
    "\n",
    "$$\n",
    "\\text{Choose}(x, y, z) = (x \\land y) \\oplus (\\lnot x \\land z)\n",
    "$$\n",
    "\n",
    "**Objective**\n",
    "Masks the original 32 bit integer by swapping out numbers based on x (similar that X is the key)  \n",
    "Bitwise NOT operator (~) flips each bit: 0 becomes 1, and 1 becomes 0.\n",
    "\n",
    "**Explanation**  \n",
    "\n",
    "**Example**\n",
    "\n",
    "| x | y | z | Choose |\n",
    "|:--:|:--:|:--:|:--:|\n",
    "| 0 | 0 | 0 | 0 |\n",
    "| 0 | 0 | 1 | 1 |\n",
    "| 0 | 1 | 0 | 0 |\n",
    "| 0 | 1 | 1 | 1 |\n",
    "| 1 | 0 | 0 | 0 |\n",
    "| 1 | 0 | 1 | 0 |\n",
    "| 1 | 1 | 0 | 1 |\n",
    "| 1 | 1 | 1 | 1 |"
   ]
  },
  {
   "cell_type": "code",
   "execution_count": 15,
   "id": "4d6417ba",
   "metadata": {},
   "outputs": [],
   "source": [
    "def choose(x: np.uint32, y: np.uint32, z: np.uint32):\n",
    "    \"\"\"\n",
    "    Return the result of choosing bits from y and z based on x.\n",
    "    \n",
    "    For each bit position, if the bit in x is 1, take the bit from y,\n",
    "    otherwise take the bit from z.\n",
    "\n",
    "    bitwise NOT operator (~) flips each bit: 0 becomes 1, and 1 becomes 0.\n",
    "    bitwise AND operator (&) compares each bit of two numbers and returns 1 if both bits are 1, otherwise returns 0.\n",
    "    bitwise XOR operator (^) compares each bit of two numbers and returns 1 if the bits are different, otherwise returns 0.\n",
    "\n",
    "    Parameters:\n",
    "        x (uint32): The mask.\n",
    "        y (uint32): The first number.\n",
    "        z (uint32): The second number.\n",
    "    \"\"\"\n",
    "    return np.uint32((x & y) ^ (~x & z))\n"
   ]
  },
  {
   "cell_type": "code",
   "execution_count": 16,
   "id": "aa684540",
   "metadata": {},
   "outputs": [
    {
     "name": "stdout",
     "output_type": "stream",
     "text": [
      "0\n",
      "1\n",
      "1\n",
      "1\n"
     ]
    }
   ],
   "source": [
    "# quick tests for Choose\n",
    "print(choose(np.uint32(0), np.uint32(0), np.uint32(0)))   # expect 0\n",
    "print(choose(np.uint32(0), np.uint32(0), np.uint32(1)))   # expect 1\n",
    "print(choose(np.uint32(1), np.uint32(1), np.uint32(0)))   # expect 1\n",
    "print(choose(np.uint32(1), np.uint32(1), np.uint32(1)))   # expect 1\n"
   ]
  },
  {
   "cell_type": "markdown",
   "id": "8502baf8",
   "metadata": {},
   "source": [
    "### Maj(x, y, z)\n",
    "\n",
    "Defined in the [Secure Hash Standard (FIPS 180-4, § 4.1.2)](https://nvlpubs.nist.gov/nistpubs/FIPS/NIST.FIPS.180-4.pdf) as:\n",
    "\n",
    "$$\n",
    "\\text{Maj}(x, y, z) = (x \\land y) \\oplus (x \\land z) \\oplus (y \\land z)\n",
    "$$\n",
    "\n",
    "This function outputs 1 for each bit position where **two or more** of the corresponding bits\n",
    "in *x*, *y*, and *z* are 1 — that makes “majority” make sense.\n",
    "\n",
    "Ensures strong diffusion (small input changes cause large, unpredictable output changes).\n",
    "\n",
    "#### Example\n",
    "| x | y | z | Maj(x,y,z) |\n",
    "|:-:|:-:|:-:|:-----------:|\n",
    "| 0 | 0 | 0 | 0 |\n",
    "| 0 | 0 | 1 | 0 |\n",
    "| 0 | 1 | 1 | 1 |\n",
    "| 1 | 0 | 1 | 1 |\n",
    "| 1 | 1 | 0 | 1 |\n",
    "| 1 | 1 | 1 | 1 |\n",
    "\n",
    "\n"
   ]
  },
  {
   "cell_type": "code",
   "execution_count": 17,
   "id": "b0381d81",
   "metadata": {},
   "outputs": [],
   "source": [
    "def Maj(x: np.uint32, y: np.uint32, z: np.uint32):\n",
    "    \"\"\"\n",
    "    Compute the majority function.\n",
    "\n",
    "    Maj(x, y, z) = (x & y) ^ (x & z) ^ (y & z)\n",
    "\n",
    "    Parameters\n",
    "    ----------\n",
    "    x, y, z : np.uint32\n",
    "        32-bit unsigned integers.\n",
    "\n",
    "    Returns\n",
    "    -------\n",
    "    np.uint32\n",
    "        The bitwise majority of x, y, and z.\n",
    "    \"\"\"\n",
    "    return (x & y) ^ (x & z) ^ (y & z)"
   ]
  },
  {
   "cell_type": "code",
   "execution_count": null,
   "id": "ee7c8558",
   "metadata": {},
   "outputs": [
    {
     "name": "stdout",
     "output_type": "stream",
     "text": [
      "1110\n"
     ]
    }
   ],
   "source": [
    "# Simple Testing for Majority Function\n",
    "x = np.uint32(0b1010)\n",
    "y = np.uint32(0b1100)\n",
    "z = np.uint32(0b0110)\n",
    "\n",
    "print(np.binary_repr(Maj(x, y, z), 4)) # expect 1110\n"
   ]
  },
  {
   "cell_type": "markdown",
   "id": "36dc2021",
   "metadata": {},
   "source": []
  },
  {
   "cell_type": "markdown",
   "id": "5e63c789",
   "metadata": {},
   "source": [
    "## <strong>Problem 2 </strong>: Fractional Parts of Cube Roots"
   ]
  },
  {
   "cell_type": "markdown",
   "id": "c092d72b",
   "metadata": {},
   "source": [
    "## <strong>Problem 3 </strong>: Padding"
   ]
  },
  {
   "cell_type": "markdown",
   "id": "7ea01c1c",
   "metadata": {},
   "source": [
    "## <strong>Problem 4 </strong>: Hashes"
   ]
  },
  {
   "cell_type": "markdown",
   "id": "095d5529",
   "metadata": {},
   "source": [
    "## <strong>Problem 5 </strong>: Passwords"
   ]
  }
 ],
 "metadata": {
  "kernelspec": {
   "display_name": "Python 3",
   "language": "python",
   "name": "python3"
  },
  "language_info": {
   "codemirror_mode": {
    "name": "ipython",
    "version": 3
   },
   "file_extension": ".py",
   "mimetype": "text/x-python",
   "name": "python",
   "nbconvert_exporter": "python",
   "pygments_lexer": "ipython3",
   "version": "3.12.1"
  }
 },
 "nbformat": 4,
 "nbformat_minor": 5
}
