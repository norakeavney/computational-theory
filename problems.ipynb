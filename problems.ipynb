{
 "cells": [
  {
   "cell_type": "markdown",
   "id": "038a0f13",
   "metadata": {},
   "source": [
    "# Computational Theory Assessment"
   ]
  },
  {
   "cell_type": "code",
   "execution_count": 2,
   "id": "6a9fafa8",
   "metadata": {},
   "outputs": [],
   "source": [
    "import numpy as np"
   ]
  },
  {
   "cell_type": "markdown",
   "id": "56ebbccd",
   "metadata": {},
   "source": [
    "## <Strong>Problem 1 </strong>: Binary Words and Operations"
   ]
  },
  {
   "cell_type": "markdown",
   "id": "0ac35945",
   "metadata": {},
   "source": [
    "### Parity \n",
    "**Parity** is defined in the [Secure Hash Standard (FIPS 180-4, § 4.1.1)](https://nvlpubs.nist.gov/nistpubs/FIPS/NIST.FIPS.180-4.pdf) as:\n",
    "\n",
    "$$\n",
    "\\text{Parity}(x, y, z) = x \\oplus y \\oplus z\n",
    "$$\n",
    "\n",
    "where ⊕ shows the **bitwise XOR** operation.\n",
    "\n",
    "For each bit position, the result is 1 if an **odd number** of x, y and z contain a 1 in that position, otherwise 0.  \n",
    "Parity therefore acts as an **odd-bit detector**, ensuring that even a single bit change in the inputs alters the output.\n",
    "\n",
    "**Simply Said:** Do I have an odd number of 1s(INPUT 1) or an even number of 1s(INPUT 0)?\n",
    "\n",
    "**Why XOR is used**\n",
    "- **XOR** stands for *exclusive OR*. \n",
    "- It's a logical operation that compares two bits and outputs **1 if they are different** and **0 if they are the same**.\n",
    "- XOR is **fast**, **branch-free**, and supported directly in Hardware.  \n",
    "- It implements addition mod 2 at the bit level.  \n",
    "\n",
    "**Alternative forms in research**\n",
    "\n",
    "Some implementations describe *Parity* differently:\n",
    "\n",
    "| Formulation | Description | Why I Didn't Use|\n",
    "| :-- | :-- | :-- |\n",
    "| `(x + y + z) % 2` | Modulo-2 sum - Simplistic show of odd/even nature by summing bits and taking the remainder mod 2. |  You’d need to apply to each bit - expensive for 32-bit words. |\n",
    "| `bin(x ^ y ^ z).count(\"1\") % 2`  | Bit Count Method - parity of all bits within one number| Very slow, string conversion, not bitwise.|\n",
    "\n",
    "\n",
    "**Truth Table (for 1-bit inputs)**\n",
    "\n",
    "| x | y | z | Parity |\n",
    "|:--:|:--:|:--:|:--:|\n",
    "| 0 | 0 | 0 | 0 |\n",
    "| 0 | 0 | 1 | 1 |\n",
    "| 0 | 1 | 0 | 1 |\n",
    "| 0 | 1 | 1 | 0 |\n",
    "| 1 | 0 | 0 | 1 |\n",
    "| 1 | 0 | 1 | 0 |\n",
    "| 1 | 1 | 0 | 0 |\n",
    "| 1 | 1 | 1 | 1 |"
   ]
  },
  {
   "cell_type": "code",
   "execution_count": 3,
   "id": "9d98518d",
   "metadata": {},
   "outputs": [],
   "source": [
    "# Platform-defined integer type with 32 bits without sign\n",
    "    # Uses np.uint32() : https://numpy.org/devdocs/user/basics.types.html\n",
    "def parity(x: np.uint32, y: np.uint32, z: np.uint32):\n",
    "    \"\"\"\n",
    "    Return the parity (XOR) of three 32-bit numbers.\n",
    "\n",
    "    Each bit of the result is 1 if an odd number of the inputs\n",
    "    have a 1 in that position, otherwise 0.\n",
    "\n",
    "    Parameters:\n",
    "        x (uint32): First 32-bit integer.\n",
    "        y (uint32): Second 32-bit integer.\n",
    "        z (uint32): Third 32-bit integer.\n",
    "\n",
    "    Returns:\n",
    "        np.uint32: The XOR (parity) of the three input values.\n",
    "    \"\"\"\n",
    "    return np.uint32(x ^ y ^ z)\n"
   ]
  },
  {
   "cell_type": "code",
   "execution_count": 4,
   "id": "4a2d29f0",
   "metadata": {},
   "outputs": [
    {
     "name": "stdout",
     "output_type": "stream",
     "text": [
      "x = 10101010\n",
      "y = 11001100\n",
      "z = 01111000\n",
      "Parity(x, y, z) = 00011110\n"
     ]
    }
   ],
   "source": [
    "# Test values\n",
    "x = np.uint32(0b10101010)\n",
    "y = np.uint32(0b11001100)\n",
    "z = np.uint32(0b01111000)\n",
    "\n",
    "# Show original inputs\n",
    "print(\"x =\", np.binary_repr(x, 8))\n",
    "print(\"y =\", np.binary_repr(y, 8))\n",
    "print(\"z =\", np.binary_repr(z, 8))\n",
    "\n",
    "# Compute Parity\n",
    "result = parity(x, y, z)\n",
    "\n",
    "# Show result in binary\n",
    "# Uses np.binary_repr(): https://numpy.org/doc/2.1/reference/generated/numpy.binary_repr.html\n",
    "print(\"Parity(x, y, z) =\", np.binary_repr(result, 8))"
   ]
  },
  {
   "cell_type": "markdown",
   "id": "3aab418e",
   "metadata": {},
   "source": [
    "### Choose(x, y, z)\n",
    "\n",
    "**Choose** is defined in the [Secure Hash Standard (FIPS 180-4, § 4.1.2)](https://nvlpubs.nist.gov/nistpubs/FIPS/NIST.FIPS.180-4.pdf) as:\n",
    "\n",
    "$$\n",
    "\\text{Ch}(x, y, z) = (x \\land y) \\oplus (\\lnot x \\land z)\n",
    "$$\n",
    "\n",
    "Where:  \n",
    "- `∧` is the **bitwise AND** operation,  \n",
    "- `⊕` is the **bitwise XOR**,  \n",
    "- `¬` (or `~` in code) is the **bitwise NOT** (flips every bit).  \n",
    "\n",
    "**Objective**  \n",
    "Choose uses `x` as a **bit-selector** - for every bit position:  \n",
    "- if bit from x = 1, take the corresponding bit from y;  \n",
    "- if bit from x = 0, take it from z.  \n",
    "\n",
    "So x acts like a 32-bit “key” that chooses between y and z.\n",
    "\n",
    "\n",
    "**Simply said:** **Choose** picks bits from `y` or `z` depending on whether `x`’s bit is 1 or 0.\n",
    "\n",
    "\n",
    "**Alternative forms and interpretations**\n",
    "\n",
    "| Formulation | Description | Why I Didn't Use|\n",
    "|:--|:--|:--|\n",
    "| `(x & y) \\| (~x & z)` | OR instead of XOR | Non-Uniformity within problem set  |\n",
    "| `z ^ (x & (y ^ z))` | Algebraic | Doesn't Match Spec, Not Great Readability |\n",
    "\n",
    "**Why this method (`np.uint32((x & y) ^ (~x & z))`)?**  \n",
    "- It exactly follows the standard equation.  \n",
    "- **np.uint32** confines results to 32 bits (no overflow).  \n",
    "- Bitwise operations are hardware-level fast and branch-free — each bit is processed independently.  \n",
    "\n",
    "\n",
    "**Example (1-bit truth table)**  \n",
    "\n",
    "| x | y | z | Choose(x,y,z) |\n",
    "|:-:|:-:|:-:|:-------------:|\n",
    "| 0 | 0 | 0 | 0 |\n",
    "| 0 | 0 | 1 | 1 |\n",
    "| 0 | 1 | 0 | 0 |\n",
    "| 0 | 1 | 1 | 1 |\n",
    "| 1 | 0 | 0 | 0 |\n",
    "| 1 | 0 | 1 | 0 |\n",
    "| 1 | 1 | 0 | 1 |\n",
    "| 1 | 1 | 1 | 1 |\n"
   ]
  },
  {
   "cell_type": "code",
   "execution_count": 14,
   "id": "4d6417ba",
   "metadata": {},
   "outputs": [],
   "source": [
    "def choose(x: np.uint32, y: np.uint32, z: np.uint32):\n",
    "    \"\"\"\n",
    "    Return the result of choosing bits from y and z based on x.\n",
    "    \n",
    "    For each bit position, if the bit in x is 1, take the bit from y,\n",
    "    otherwise take the bit from z.\n",
    "\n",
    "    bitwise NOT operator (~) flips each bit: 0 becomes 1, and 1 becomes 0.\n",
    "    bitwise AND operator (&) compares each bit of two numbers and returns 1 if both bits are 1, otherwise returns 0.\n",
    "    bitwise XOR operator (^) compares each bit of two numbers and returns 1 if the bits are different, otherwise returns 0.\n",
    "\n",
    "    Parameters:\n",
    "        x (uint32): The mask.\n",
    "        y (uint32): The first number.\n",
    "        z (uint32): The second number.\n",
    "    \"\"\"\n",
    "    return np.uint32((x & y) ^ (~x & z))\n"
   ]
  },
  {
   "cell_type": "code",
   "execution_count": 15,
   "id": "aa684540",
   "metadata": {},
   "outputs": [
    {
     "name": "stdout",
     "output_type": "stream",
     "text": [
      "0\n",
      "1\n",
      "1\n",
      "1\n"
     ]
    }
   ],
   "source": [
    "# quick tests for Choose\n",
    "print(choose(np.uint32(0), np.uint32(0), np.uint32(0)))   # expect 0\n",
    "print(choose(np.uint32(0), np.uint32(0), np.uint32(1)))   # expect 1\n",
    "print(choose(np.uint32(1), np.uint32(1), np.uint32(0)))   # expect 1\n",
    "print(choose(np.uint32(1), np.uint32(1), np.uint32(1)))   # expect 1\n"
   ]
  },
  {
   "cell_type": "markdown",
   "id": "8502baf8",
   "metadata": {},
   "source": [
    "### Maj(x, y, z)\n",
    "\n",
    "Defined in the [Secure Hash Standard (FIPS 180-4, § 4.1.2)](https://nvlpubs.nist.gov/nistpubs/FIPS/NIST.FIPS.180-4.pdf) as:\n",
    "\n",
    "$$\n",
    "\\text{Maj}(x, y, z) = (x \\land y) \\oplus (x \\land z) \\oplus (y \\land z)\n",
    "$$\n",
    "\n",
    "This function outputs 1 for each bit position where **two or more** of the corresponding bits\n",
    "in *x*, *y*, and *z* are 1 — that makes “majority” make sense.\n",
    "\n",
    "Ensures strong diffusion (small input changes cause large, unpredictable output changes).\n",
    "\n",
    "#### Example\n",
    "| x | y | z | Maj(x,y,z) |\n",
    "|:-:|:-:|:-:|:-----------:|\n",
    "| 0 | 0 | 0 | 0 |\n",
    "| 0 | 0 | 1 | 0 |\n",
    "| 0 | 1 | 1 | 1 |\n",
    "| 1 | 0 | 1 | 1 |\n",
    "| 1 | 1 | 0 | 1 |\n",
    "| 1 | 1 | 1 | 1 |\n",
    "\n",
    "\n"
   ]
  },
  {
   "cell_type": "code",
   "execution_count": 7,
   "id": "b0381d81",
   "metadata": {},
   "outputs": [],
   "source": [
    "def Maj(x: np.uint32, y: np.uint32, z: np.uint32):\n",
    "    \"\"\"\n",
    "    Compute the majority function.\n",
    "\n",
    "    Maj(x, y, z) = (x & y) ^ (x & z) ^ (y & z)\n",
    "\n",
    "    Parameters\n",
    "    ----------\n",
    "    x, y, z : np.uint32\n",
    "        32-bit unsigned integers.\n",
    "\n",
    "    Returns\n",
    "    -------\n",
    "    np.uint32\n",
    "        The bitwise majority of x, y, and z.\n",
    "    \"\"\"\n",
    "    return (x & y) ^ (x & z) ^ (y & z)"
   ]
  },
  {
   "cell_type": "code",
   "execution_count": 8,
   "id": "ee7c8558",
   "metadata": {},
   "outputs": [
    {
     "name": "stdout",
     "output_type": "stream",
     "text": [
      "1110\n"
     ]
    }
   ],
   "source": [
    "# Simple Testing for Majority Function\n",
    "x = np.uint32(0b1010)\n",
    "y = np.uint32(0b1100)\n",
    "z = np.uint32(0b0110)\n",
    "\n",
    "print(np.binary_repr(Maj(x, y, z), 4)) # expect 1110\n"
   ]
  },
  {
   "cell_type": "code",
   "execution_count": 9,
   "id": "faedfc96",
   "metadata": {},
   "outputs": [],
   "source": [
    "# Rotate-right operation for 32-bit words - Helper function for Sigma functions\n",
    "def ROTR(x: np.uint32, n: int) -> np.uint32:\n",
    "    \"\"\"Rotate-right operation for 32-bit words.\"\"\"\n",
    "    return np.uint32((x >> n) | (x << np.uint32(32 - n)))"
   ]
  },
  {
   "cell_type": "markdown",
   "id": "7eca43bf",
   "metadata": {},
   "source": [
    "### Σ₀(x) — Sigma Zero\n",
    "\n",
    "Defined in the [Secure Hash Standard (FIPS 180-4, §4.1.2)](https://nvlpubs.nist.gov/nistpubs/FIPS/NIST.FIPS.180-4.pdf) as:\n",
    "\n",
    "$$\n",
    "\\Sigma_0^{\\{256\\}}(x) = \\text{ROTR}^2(x) \\oplus \\text{ROTR}^{13}(x) \\oplus \\text{ROTR}^{22}(x)\n",
    "$$\n",
    "\n",
    "This function rotates a 32-bit word `x` right by 2, 13, and 22 bits and XORs the results.\n",
    "It helps spread (diffuse) bits of `x` across multiple positions in the SHA-256 state,\n",
    "ensuring that small input changes cause large, unpredictable output changes.\n",
    "\n",
    "| Operation | Description |\n",
    "|------------|-------------|\n",
    "| ROTR²(x)  | Right rotation by 2 bits |\n",
    "| ROTR¹³(x) | Right rotation by 13 bits |\n",
    "| ROTR²²(x) | Right rotation by 22 bits |\n",
    "\n",
    "The final result is the XOR (⊕) of these three rotated words.\n"
   ]
  },
  {
   "cell_type": "code",
   "execution_count": 10,
   "id": "fa1cd0b7",
   "metadata": {},
   "outputs": [],
   "source": [
    "def Sigma0(x: np.uint32) -> np.uint32:\n",
    "    \"\"\"\n",
    "    Compute the Σ₀ (Sigma zero) function used in SHA-256.\n",
    "\n",
    "    Defined in FIPS 180-4 (Section 4.1.2) as:\n",
    "        Σ₀(x) = ROTR²(x) ⊕ ROTR¹³(x) ⊕ ROTR²²(x)\n",
    "\n",
    "    Parameters\n",
    "    ----------\n",
    "    x : np.uint32\n",
    "        32-bit unsigned integer input word.\n",
    "\n",
    "    Returns\n",
    "    -------\n",
    "    np.uint32\n",
    "        The resulting 32-bit word after applying Σ₀(x).\n",
    "    \"\"\"\n",
    "    return ROTR(x, 2) ^ ROTR(x, 13) ^ ROTR(x, 22)\n"
   ]
  },
  {
   "cell_type": "code",
   "execution_count": 11,
   "id": "a27aa61f",
   "metadata": {},
   "outputs": [
    {
     "name": "stdout",
     "output_type": "stream",
     "text": [
      "Original Number: 00000000000000000000000010010011\n",
      "Sigma0 Result  : 11000100100110100100110000100100\n"
     ]
    }
   ],
   "source": [
    "# Simple test for Sigma0\n",
    "x = np.uint32(0b10010011)\n",
    "\n",
    "# Display result in binary for readability\n",
    "# Uses np.binary_repr(): https://numpy.org/doc/2.1/reference/generated/numpy.binary_repr.html\n",
    "print(\"Original Number:\", np.binary_repr(x, 32))\n",
    "print(\"Sigma0 Result  :\", np.binary_repr(Sigma0(x), 32))\n"
   ]
  },
  {
   "cell_type": "markdown",
   "id": "36dc2021",
   "metadata": {},
   "source": [
    "### Σ₁(x) — Sigma One\n",
    "\n",
    "Defined in the [Secure Hash Standard (FIPS 180-4, §4.1.2)](https://nvlpubs.nist.gov/nistpubs/FIPS/NIST.FIPS.180-4.pdf) as:\n",
    "\n",
    "$$\n",
    "\\Sigma_1^{\\{256\\}}(x) = \\text{ROTR}^6(x) \\oplus \\text{ROTR}^{11}(x) \\oplus \\text{ROTR}^{25}(x)\n",
    "$$\n",
    "\n",
    "This function performs three **bitwise right rotations** of a 32-bit word `x`\n",
    "by 6, 11, and 25 bits, then XORs the results together.\n",
    "\n",
    "Like Σ₀(x), it contributes to **diffusion** within the SHA-256 algorithm —\n",
    "ensuring that small input changes propagate unpredictably throughout the hash state.\n",
    "\n",
    "#### Behaviour Summary\n",
    "| Operation | Description |\n",
    "|------------|--------------|\n",
    "| ROTR⁶(x)  | Circular right rotation by 6 bits |\n",
    "| ROTR¹¹(x) | Circular right rotation by 11 bits |\n",
    "| ROTR²⁵(x) | Circular right rotation by 25 bits |\n",
    "\n",
    "The final output is the XOR (⊕) of these three rotated words.\n"
   ]
  },
  {
   "cell_type": "code",
   "execution_count": 12,
   "id": "34f4d214",
   "metadata": {},
   "outputs": [],
   "source": [
    "def Sigma1(x: np.uint32) -> np.uint32:\n",
    "    \"\"\"\n",
    "    Compute the Σ₁ (Sigma one) function.\n",
    "\n",
    "    This function performs three right-rotations of a 32-bit word `x` by\n",
    "    6, 11, and 25 bits, and returns the bitwise XOR of these results:\n",
    "\n",
    "        Σ₁(x) = ROTR⁶(x) ⊕ ROTR¹¹(x) ⊕ ROTR²⁵(x)\n",
    "\n",
    "    Parameters\n",
    "    ----------\n",
    "    x : np.uint32\n",
    "        32-bit unsigned integer input word.\n",
    "\n",
    "    Returns\n",
    "    -------\n",
    "    np.uint32\n",
    "        The resulting 32-bit word after applying Σ₁(x).\n",
    "    \"\"\"\n",
    "    return ROTR(x, 6) ^ ROTR(x, 11) ^ ROTR(x, 25)\n"
   ]
  },
  {
   "cell_type": "code",
   "execution_count": 13,
   "id": "114ab497",
   "metadata": {},
   "outputs": [
    {
     "name": "stdout",
     "output_type": "stream",
     "text": [
      "01011110011000000100100110000010\n"
     ]
    }
   ],
   "source": [
    "# Simple test for Sigma1\n",
    "x = np.uint32(0b10010011)\n",
    "\n",
    "# Display the result in binary for readability\n",
    "# Uses np.binary_repr(): https://numpy.org/doc/2.1/reference/generated/numpy.binary_repr.html\n",
    "print(np.binary_repr(Sigma1(x), 32))\n"
   ]
  },
  {
   "cell_type": "markdown",
   "id": "5e63c789",
   "metadata": {},
   "source": [
    "## <strong>Problem 2 </strong>: Fractional Parts of Cube Roots"
   ]
  },
  {
   "cell_type": "markdown",
   "id": "c092d72b",
   "metadata": {},
   "source": [
    "## <strong>Problem 3 </strong>: Padding"
   ]
  },
  {
   "cell_type": "markdown",
   "id": "7ea01c1c",
   "metadata": {},
   "source": [
    "## <strong>Problem 4 </strong>: Hashes"
   ]
  },
  {
   "cell_type": "markdown",
   "id": "095d5529",
   "metadata": {},
   "source": [
    "## <strong>Problem 5 </strong>: Passwords"
   ]
  }
 ],
 "metadata": {
  "kernelspec": {
   "display_name": "Python 3",
   "language": "python",
   "name": "python3"
  },
  "language_info": {
   "codemirror_mode": {
    "name": "ipython",
    "version": 3
   },
   "file_extension": ".py",
   "mimetype": "text/x-python",
   "name": "python",
   "nbconvert_exporter": "python",
   "pygments_lexer": "ipython3",
   "version": "3.12.1"
  }
 },
 "nbformat": 4,
 "nbformat_minor": 5
}
