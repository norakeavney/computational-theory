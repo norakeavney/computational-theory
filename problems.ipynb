{
 "cells": [
  {
   "cell_type": "markdown",
   "id": "03516daf",
   "metadata": {},
   "source": [
    "# Computational Theory Assessment"
   ]
  },
  {
   "cell_type": "code",
   "execution_count": 20,
   "id": "e4b6eaad",
   "metadata": {},
   "outputs": [],
   "source": [
    "import numpy as np"
   ]
  },
  {
   "cell_type": "markdown",
   "id": "674e67c0",
   "metadata": {},
   "source": [
    "## Problem 1: Binary Words and Operations"
   ]
  },
  {
   "cell_type": "markdown",
   "id": "f603305f",
   "metadata": {},
   "source": [
    "### Parity \n",
    "The **Parity** function is defined in the [Secure Hash Standard (FIPS 180-4, § 4.1.1)](https://nvlpubs.nist.gov/nistpubs/FIPS/NIST.FIPS.180-4.pdf) as  \n",
    "\n",
    "\n",
    "$$\n",
    "\\text{Parity}(x, y, z) = x \\oplus y \\oplus z\n",
    "$$\n",
    "\n",
    "where ⊕ shows the **bitwise XOR** operation.\n",
    "\n",
    "For each bit position, the result is 1 if an **odd number** of x, y and z contain a 1 in that position, otherwise 0.  \n",
    "Parity therefore acts as an **odd-bit detector**, ensuring that even a single bit change in the inputs alters the output.\n",
    "\n",
    "**Why XOR is used**\n",
    "- **XOR** stands for *exclusive OR*. \n",
    "- It's a logical operation that compares two bits and outputs **1 if they are different** and **0 if they are the same**.\n",
    "- XOR is **fast**, **branch-free**, and supported directly by CPUs.  \n",
    "- It implements addition mod 2 at the bit level.  \n",
    "\n",
    "\n",
    "**Alternative forms in research**\n",
    "\n",
    "Some authors and implementations describe *Parity* differently:\n",
    "\n",
    "| Formulation | Description |\n",
    "| :-- | :-- |\n",
    "| `(x + y + z) % 2` | Highlights the odd/even nature by summing bits and taking the remainder mod 2. |\n",
    "\n",
    "\n",
    "In practice, this is slower and less readable than the direct XOR form (`x ^ y ^ z`),  \n",
    "which matches the definition in [FIPS 180-4 § 4.1.1](https://nvlpubs.nist.gov/nistpubs/FIPS/NIST.FIPS.180-4.pdf)  and in real cryptographic libraries such as OpenSSL.\n",
    "\n",
    "\n",
    "**Truth Table (for 1-bit inputs)**\n",
    "\n",
    "| x | y | z | Parity |\n",
    "|:--:|:--:|:--:|:--:|\n",
    "| 0 | 0 | 0 | 0 |\n",
    "| 0 | 0 | 1 | 1 |\n",
    "| 0 | 1 | 0 | 1 |\n",
    "| 0 | 1 | 1 | 0 |\n",
    "| 1 | 0 | 0 | 1 |\n",
    "| 1 | 0 | 1 | 0 |\n",
    "| 1 | 1 | 0 | 0 |\n",
    "| 1 | 1 | 1 | 1 |\n",
    "\n",
    "</details>"
   ]
  },
  {
   "cell_type": "code",
   "execution_count": 21,
   "id": "19787944",
   "metadata": {},
   "outputs": [],
<<<<<<< HEAD
=======
   "source": [
    "\n",
    "def parity(x: np.uint32, y: np.uint32, z: np.uint32) -> np.uint32:\n",
    "    \"\"\"\n",
    "    Compute the SHA-style Parity function.\n",
    "\n",
    "    Performs a bitwise XOR across three 32-bit words. For each bit position,\n",
    "    the result is 1 if an odd number of the inputs contain a 1, else 0.\n",
    "\n",
    "    Parameters\n",
    "    ----------\n",
    "    x, y, z : np.uint32\n",
    "        32-bit unsigned integers (words).\n",
    "\n",
    "    Returns\n",
    "    -------\n",
    "    np.uint32\n",
    "        Bitwise parity of the inputs, constrained to 32 bits.\n",
    "\n",
    "\n",
    "    \"\"\"\n",
    "    # Using np.bitwise_xor for clarity and compatibility with NumPy numbers.\n",
    "    # See: https://numpy.org/doc/stable/reference/generated/numpy.bitwise_xor.html\n",
    "    return np.bitwise_xor(np.bitwise_xor(x, y), z)\n"
   ]
  },
  {
   "cell_type": "code",
   "execution_count": 22,
   "id": "75a373b8",
   "metadata": {},
   "outputs": [
    {
     "name": "stdout",
     "output_type": "stream",
     "text": [
      "0\n",
      "1\n",
      "0\n",
      "1\n"
     ]
    }
   ],
>>>>>>> 5fbad2f (Add detailed explanations and tests for Parity and Choose functions)
   "source": [
    "# quick tests for Parity\n",
    "print(parity(0, 0, 0))  # expect 0\n",
    "print(parity(0, 0, 1))  # expect 1\n",
    "print(parity(1, 1, 0))  # expect 0\n",
    "print(parity(1, 1, 1))  # expect 1\n",
    "\n"
   ]
  },
  {
   "cell_type": "markdown",
   "id": "4b2a2600",
   "metadata": {},
   "source": [
    "### Choose\n",
    "The **Choose** function is defined in the [Secure Hash Standard (FIPS 180-4, § 4.1.1)](https://nvlpubs.nist.gov/nistpubs/FIPS/NIST.FIPS.180-4.pdf) as  \n",
    "\n",
    "$$\n",
    "\\text{Choose}(x, y, z) = (x \\land y) \\oplus (\\lnot x \\land z)\n",
    "$$\n",
    "\n",
    "**Objective**\n",
    "Masks the original 32 bit integer by swapping out numbers based on x (similar that X is the key)\n",
    "Bitwise NOT operator (~) flips each bit: 0 becomes 1, and 1 becomes 0.\n",
    "\n",
    "**Explanation**  \n",
    "\n",
    "**Example**\n",
    "\n",
    "| x | y | z | Choose |\n",
    "|:--:|:--:|:--:|:--:|\n",
    "| 0 | 0 | 0 | 0 |\n",
    "| 0 | 0 | 1 | 1 |\n",
    "| 0 | 1 | 0 | 0 |\n",
    "| 0 | 1 | 1 | 1 |\n",
    "| 1 | 0 | 0 | 0 |\n",
    "| 1 | 0 | 1 | 0 |\n",
    "| 1 | 1 | 0 | 1 |\n",
    "| 1 | 1 | 1 | 1 |\n",
    "\n"
   ]
  },
  {
   "cell_type": "code",
   "execution_count": 23,
   "id": "af5f49b4",
   "metadata": {},
   "outputs": [],
   "source": [
    "# Choose \n",
    "def choose(x, y, z):\n",
    "    \"\"\"\n",
    "    Return the result of choosing bits from y and z based on x.\n",
    "    \n",
    "    For each bit position, if the bit in x is 1, take the bit from y,\n",
    "    otherwise take the bit from z.\n",
    "\n",
    "    bitwise NOT operator (~) flips each bit: 0 becomes 1, and 1 becomes 0.\n",
    "    bitwise AND operator (&) compares each bit of two numbers and returns 1 if both bits are 1, otherwise returns 0.\n",
    "    bitwise XOR operator (^) compares each bit of two numbers and returns 1 if the bits are different, otherwise returns 0.\n",
    "\n",
    "    Parameters:\n",
    "        x (uint32): The mask.\n",
    "        y (uint32): The first number.\n",
    "        z (uint32): The second number.\n",
    "    \"\"\"\n",
    "    return np.uint32((x & y) ^ (~x & z))"
   ]
  },
  {
   "cell_type": "code",
   "execution_count": 24,
   "id": "d945972f",
   "metadata": {},
   "outputs": [
    {
     "name": "stdout",
     "output_type": "stream",
     "text": [
      "0\n",
      "1\n",
      "1\n",
      "1\n"
     ]
    }
   ],
   "source": [
    "# quick tests for Choose\n",
    "print(choose(0, 0, 0))  # expect 0\n",
    "print(choose(0, 0, 1))  # expect 1\n",
    "print(choose(1, 1, 0))  # expect 1\n",
    "print(choose(1, 1, 1))  # expect 1"
   ]
  },
  {
   "cell_type": "markdown",
   "id": "0f29beb7",
   "metadata": {},
   "source": [
    "## Problem 2: Fractional Parts of Cube Roots"
   ]
  },
  {
   "cell_type": "markdown",
   "id": "636973dc",
   "metadata": {},
   "source": [
    "## Problem 3: Padding"
   ]
  },
  {
   "cell_type": "markdown",
   "id": "33cf95ee",
   "metadata": {},
   "source": [
    "## Problem 4: Hashes"
   ]
  },
  {
   "cell_type": "markdown",
   "id": "a832f60c",
   "metadata": {},
   "source": [
    "## Problem 5: Passwords"
   ]
  },
  {
   "cell_type": "markdown",
   "id": "dd1e56f1",
   "metadata": {},
   "source": [
    "# END"
   ]
  }
 ],
 "metadata": {
  "kernelspec": {
   "display_name": "Python 3",
   "language": "python",
   "name": "python3"
  },
  "language_info": {
   "codemirror_mode": {
    "name": "ipython",
    "version": 3
   },
   "file_extension": ".py",
   "mimetype": "text/x-python",
   "name": "python",
   "nbconvert_exporter": "python",
   "pygments_lexer": "ipython3",
   "version": "3.12.1"
  }
 },
 "nbformat": 4,
 "nbformat_minor": 5
}
