{
 "cells": [
  {
   "cell_type": "markdown",
   "id": "03516daf",
   "metadata": {},
   "source": [
    "# Computational Theory Assessment"
   ]
  },
  {
   "cell_type": "code",
   "execution_count": 1,
   "id": "e4b6eaad",
   "metadata": {},
   "outputs": [],
   "source": [
    "import numpy as np"
   ]
  },
  {
   "cell_type": "markdown",
   "id": "674e67c0",
   "metadata": {},
   "source": [
    "## Problem 1: Binary Words and Operations"
   ]
  },
  {
   "cell_type": "code",
   "execution_count": null,
   "id": "19787944",
   "metadata": {},
   "outputs": [],
   "source": [
    "# Parity \n",
    "def parity(x, y, z):\n",
    "    \"\"\"\n",
    "    Return the parity (XOR) of three 32-bit numbers.\n",
    "    \n",
    "    Each bit of the result is 1 if an odd number of the inputs\n",
    "    have a 1 in that position, otherwise 0.\n",
    "    \"\"\"\n",
    "    return np.uint32(x ^ y ^ z)\n",
    "\n",
    "# Testing\n",
    "print(parity(0, 0, 0))  # expect 0\n",
    "print(parity(0, 0, 1))  # expect 1\n",
    "print(parity(1, 1, 0))  # expect 0\n",
    "print(parity(1, 1, 1))  # expect 1"
   ]
  },
  {
   "cell_type": "markdown",
   "id": "0f29beb7",
   "metadata": {},
   "source": [
    "## Problem 2: Fractional Parts of Cube Roots"
   ]
  },
  {
   "cell_type": "markdown",
   "id": "636973dc",
   "metadata": {},
   "source": [
    "## Problem 3: Padding"
   ]
  },
  {
   "cell_type": "markdown",
   "id": "33cf95ee",
   "metadata": {},
   "source": [
    "## Problem 4: Hashes"
   ]
  },
  {
   "cell_type": "markdown",
   "id": "a832f60c",
   "metadata": {},
   "source": [
    "## Problem 5: Passwords"
   ]
  },
  {
   "cell_type": "markdown",
   "id": "dd1e56f1",
   "metadata": {},
   "source": [
    "# END"
   ]
  }
 ],
 "metadata": {
  "kernelspec": {
   "display_name": "Python 3",
   "language": "python",
   "name": "python3"
  },
  "language_info": {
   "codemirror_mode": {
    "name": "ipython",
    "version": 3
   },
   "file_extension": ".py",
   "mimetype": "text/x-python",
   "name": "python",
   "nbconvert_exporter": "python",
   "pygments_lexer": "ipython3",
   "version": "3.12.1"
  }
 },
 "nbformat": 4,
 "nbformat_minor": 5
}
