{
 "cells": [
  {
   "cell_type": "markdown",
   "id": "038a0f13",
   "metadata": {},
   "source": [
    "# Computational Theory Assessment"
   ]
  },
  {
   "cell_type": "markdown",
   "id": "56ebbccd",
   "metadata": {},
   "source": [
    "## <Strong>Problem 1 </strong>: Binary Words and Operations"
   ]
  },
  {
   "cell_type": "markdown",
   "id": "0ac35945",
   "metadata": {},
   "source": [
    "### Parity"
   ]
  },
  {
   "cell_type": "markdown",
   "id": "5e63c789",
   "metadata": {},
   "source": [
    "## <strong>Problem 2 </strong>: Fractional Parts of Cube Roots"
   ]
  },
  {
   "cell_type": "markdown",
   "id": "c092d72b",
   "metadata": {},
   "source": [
    "## <strong>Problem 3 </strong>: Padding"
   ]
  },
  {
   "cell_type": "markdown",
   "id": "7ea01c1c",
   "metadata": {},
   "source": [
    "## <strong>Problem 4 </strong>: Hashes"
   ]
  },
  {
   "cell_type": "markdown",
   "id": "095d5529",
   "metadata": {},
   "source": [
    "## <strong>Problem 5 </strong>: Passwords"
   ]
  }
 ],
 "metadata": {
  "language_info": {
   "name": "python"
  }
 },
 "nbformat": 4,
 "nbformat_minor": 5
}
